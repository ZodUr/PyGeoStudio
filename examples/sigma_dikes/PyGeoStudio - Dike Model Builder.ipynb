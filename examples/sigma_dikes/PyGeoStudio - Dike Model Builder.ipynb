{
 "cells": [
  {
   "cell_type": "markdown",
   "id": "96d8dc0c-86e6-4105-bced-544cd3bbb558",
   "metadata": {},
   "source": [
    "# PyGeoStudio - Model Builder "
   ]
  },
  {
   "cell_type": "code",
   "execution_count": 1,
   "id": "6b84a705-9249-4510-af36-9e8ddacf523f",
   "metadata": {},
   "outputs": [],
   "source": [
    "import PyGeoStudio as pgs\n",
    "import pgs_modelbuilder as pgs_mb"
   ]
  },
  {
   "cell_type": "code",
   "execution_count": 2,
   "id": "4a0fbf5b-6841-4560-8b15-450da2f0ccb3",
   "metadata": {},
   "outputs": [],
   "source": [
    "# Check main path\n",
    "main_path = r\"C:\\Users\\WQ5783\\OneDrive - ENGIE\\5_PyProjects\\pySigma3\\PyGeoStudio - Model Builder\""
   ]
  },
  {
   "cell_type": "code",
   "execution_count": 3,
   "id": "13670eb2-a7f9-4326-879e-3a28dec12251",
   "metadata": {},
   "outputs": [],
   "source": [
    "# Open geostudio file\n",
    "src_file = \"test.gsz\"\n",
    "geofile = pgs.GeoStudioFile(main_path+\"/\"+src_file)"
   ]
  },
  {
   "cell_type": "code",
   "execution_count": 4,
   "id": "e1bad65a-0c13-4537-bc91-b3b21508c3cf",
   "metadata": {},
   "outputs": [
    {
     "name": "stdout",
     "output_type": "stream",
     "text": [
      "+--------------+---------------------+\n",
      "|     Name     | Analysis ID defined |\n",
      "+--------------+---------------------+\n",
      "| Géométrie 2D |          1          |\n",
      "+--------------+---------------------+\n",
      "All  points deleted!\n",
      "All regions deleted!\n",
      "All lines deleted!\n"
     ]
    }
   ],
   "source": [
    "# Delete all\n",
    "geofile.showGeometries()\n",
    "geometry = geofile.getGeometryByID(1)\n",
    "geometry.delete()"
   ]
  },
  {
   "cell_type": "code",
   "execution_count": 5,
   "id": "e2759283-866a-4aa5-9e13-3464ff094258",
   "metadata": {},
   "outputs": [
    {
     "data": {
      "text/html": [
       "<div>\n",
       "<style scoped>\n",
       "    .dataframe tbody tr th:only-of-type {\n",
       "        vertical-align: middle;\n",
       "    }\n",
       "\n",
       "    .dataframe tbody tr th {\n",
       "        vertical-align: top;\n",
       "    }\n",
       "\n",
       "    .dataframe thead th {\n",
       "        text-align: right;\n",
       "    }\n",
       "</style>\n",
       "<table border=\"1\" class=\"dataframe\">\n",
       "  <thead>\n",
       "    <tr style=\"text-align: right;\">\n",
       "      <th></th>\n",
       "      <th>Index</th>\n",
       "      <th>ID label</th>\n",
       "      <th>X-co</th>\n",
       "      <th>Y-co</th>\n",
       "      <th>Note</th>\n",
       "    </tr>\n",
       "  </thead>\n",
       "  <tbody>\n",
       "    <tr>\n",
       "      <th>0</th>\n",
       "      <td>0</td>\n",
       "      <td>Point-1</td>\n",
       "      <td>-200.000000</td>\n",
       "      <td>-5.000000</td>\n",
       "      <td>Left model boundary</td>\n",
       "    </tr>\n",
       "    <tr>\n",
       "      <th>1</th>\n",
       "      <td>1</td>\n",
       "      <td>Point-2</td>\n",
       "      <td>-42.058096</td>\n",
       "      <td>-5.000000</td>\n",
       "      <td>Bottom river slope</td>\n",
       "    </tr>\n",
       "    <tr>\n",
       "      <th>2</th>\n",
       "      <td>2</td>\n",
       "      <td>Point-3</td>\n",
       "      <td>-15.440000</td>\n",
       "      <td>1.643332</td>\n",
       "      <td>Midpoint river slope</td>\n",
       "    </tr>\n",
       "    <tr>\n",
       "      <th>3</th>\n",
       "      <td>3</td>\n",
       "      <td>Point-4</td>\n",
       "      <td>0.000000</td>\n",
       "      <td>7.595304</td>\n",
       "      <td>Top (crest) river slope</td>\n",
       "    </tr>\n",
       "    <tr>\n",
       "      <th>4</th>\n",
       "      <td>4</td>\n",
       "      <td>Point-5</td>\n",
       "      <td>19.470000</td>\n",
       "      <td>7.530037</td>\n",
       "      <td>Top (crest) land slope</td>\n",
       "    </tr>\n",
       "    <tr>\n",
       "      <th>5</th>\n",
       "      <td>5</td>\n",
       "      <td>Point-6</td>\n",
       "      <td>25.120000</td>\n",
       "      <td>5.855008</td>\n",
       "      <td>Bottom land slope</td>\n",
       "    </tr>\n",
       "    <tr>\n",
       "      <th>6</th>\n",
       "      <td>6</td>\n",
       "      <td>Point-7</td>\n",
       "      <td>150.000000</td>\n",
       "      <td>5.491163</td>\n",
       "      <td>Rigjt model boundary</td>\n",
       "    </tr>\n",
       "  </tbody>\n",
       "</table>\n",
       "</div>"
      ],
      "text/plain": [
       "   Index ID label        X-co      Y-co                     Note\n",
       "0      0  Point-1 -200.000000 -5.000000      Left model boundary\n",
       "1      1  Point-2  -42.058096 -5.000000       Bottom river slope\n",
       "2      2  Point-3  -15.440000  1.643332     Midpoint river slope\n",
       "3      3  Point-4    0.000000  7.595304  Top (crest) river slope\n",
       "4      4  Point-5   19.470000  7.530037   Top (crest) land slope\n",
       "5      5  Point-6   25.120000  5.855008        Bottom land slope\n",
       "6      6  Point-7  150.000000  5.491163     Rigjt model boundary"
      ]
     },
     "execution_count": 5,
     "metadata": {},
     "output_type": "execute_result"
    }
   ],
   "source": [
    "# Get dike basic points\n",
    "quantile_excel_filepath = main_path + \"/\" + \"cross_sections_schelde_quantiles.xlsx\"\n",
    "surface_pt_table, surface_pts, surface_notes = pgs_mb.get_surface_points_from_quantile_excel(quantile_excel_filepath, 0.5)\n",
    "surface_pt_table"
   ]
  },
  {
   "cell_type": "code",
   "execution_count": null,
   "id": "8b1cafc1-83ef-41c7-acc5-7df8483e53f1",
   "metadata": {},
   "outputs": [],
   "source": [
    "# Make landside horizontal\n",
    "surface_pts = pgs_mb.make_landside_horizontal(surface_pts)\n",
    "surface_pts"
   ]
  },
  {
   "cell_type": "code",
   "execution_count": null,
   "id": "7e2dbb24-69d6-4ef0-830b-0d8e8ab88dda",
   "metadata": {},
   "outputs": [],
   "source": [
    "# Add extra points to surface points\n",
    "low_wl, high_wl = 0.23, 5.62\n",
    "surface_pts = pgs_mb.add_extra_points_on_river_slope(surface_pts, low_wl, high_wl)\n",
    "surface_pts"
   ]
  },
  {
   "cell_type": "code",
   "execution_count": null,
   "id": "5ed117eb-a8d1-4a60-bc4a-38f89b559457",
   "metadata": {},
   "outputs": [],
   "source": [
    "# Add surface points of dike to geometry & connect with lines\n",
    "geometry.addPoints(surface_pts)\n",
    "surface_lns = [[i, i+1] for i in range(1, len(geometry.points))]\n",
    "geometry.addLines(surface_lns)"
   ]
  },
  {
   "cell_type": "code",
   "execution_count": null,
   "id": "eb1c02df-9dd5-4b55-978f-87fe321b01fa",
   "metadata": {},
   "outputs": [],
   "source": [
    "geometry.listProperties()"
   ]
  },
  {
   "cell_type": "code",
   "execution_count": null,
   "id": "82c9dfbe-b109-43a2-aaa1-9646f41102da",
   "metadata": {},
   "outputs": [],
   "source": [
    "geometry.points"
   ]
  },
  {
   "cell_type": "code",
   "execution_count": null,
   "id": "5f217ff2-bdb2-436c-bf5e-90b611210591",
   "metadata": {},
   "outputs": [],
   "source": [
    "geometry.draw()"
   ]
  },
  {
   "cell_type": "raw",
   "id": "7d9f90d0-2ae6-468b-88a3-e46b0f5c11cc",
   "metadata": {},
   "source": [
    "# Add cover layer (inner points) using 1-based point IDs (4 to 7)\n",
    "cover_inner_pts = pgs_mb.calc_cover_layer_points(surface_pts, start_id=4, end_id=7, thickness=0.50)\n",
    "geometry.addPoints(cover_inner_pts)"
   ]
  },
  {
   "cell_type": "raw",
   "id": "31a83f62-c74d-421b-b5d1-96409a985507",
   "metadata": {},
   "source": [
    "geometry.listProperties()"
   ]
  },
  {
   "cell_type": "raw",
   "id": "92cdb8fe-6d9a-4cb1-b21f-51b129001621",
   "metadata": {},
   "source": [
    "# Write modified study under new file:\n",
    "out_file = \"test-dike-geom.gsz\"\n",
    "geofile.saveAs(main_path+\"/\"+out_file)"
   ]
  },
  {
   "cell_type": "code",
   "execution_count": null,
   "id": "494b8499-6ec1-44d3-83d8-051ce6fcb5ca",
   "metadata": {},
   "outputs": [],
   "source": []
  }
 ],
 "metadata": {
  "kernelspec": {
   "display_name": "Python 3 (ipykernel)",
   "language": "python",
   "name": "python3"
  },
  "language_info": {
   "codemirror_mode": {
    "name": "ipython",
    "version": 3
   },
   "file_extension": ".py",
   "mimetype": "text/x-python",
   "name": "python",
   "nbconvert_exporter": "python",
   "pygments_lexer": "ipython3",
   "version": "3.12.9"
  }
 },
 "nbformat": 4,
 "nbformat_minor": 5
}
